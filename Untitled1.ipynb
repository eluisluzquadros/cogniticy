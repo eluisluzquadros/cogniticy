{
 "cells": [
  {
   "cell_type": "markdown",
   "id": "3b418821-a6d1-4009-b027-a7d6feddb720",
   "metadata": {},
   "source": [
    "# 1. Instalar dependências (se necessário)"
   ]
  },
  {
   "cell_type": "code",
   "execution_count": 2,
   "id": "e0d46a8d-707d-4f48-a431-af67f6bbf663",
   "metadata": {},
   "outputs": [],
   "source": [
    "# !pip install geopandas shapely h3"
   ]
  },
  {
   "cell_type": "markdown",
   "id": "5874de6c-6bb6-4c60-87b0-b82403f6983e",
   "metadata": {},
   "source": [
    "# 2. Importar o pipeline"
   ]
  },
  {
   "cell_type": "code",
   "execution_count": 5,
   "id": "007ea390-de43-4a43-a87f-35303c509fa4",
   "metadata": {},
   "outputs": [],
   "source": [
    "import sys\n",
    "import os\n",
    "\n",
    "# Adiciona a raiz do projeto ao PYTHONPATH\n",
    "sys.path.append(os.path.abspath(\".\"))  # ou \"../\" se estiver rodando de uma subpasta\n",
    "\n",
    "from pipelines.modeling_pipeline import run_modeling_pipeline"
   ]
  },
  {
   "cell_type": "code",
   "execution_count": 7,
   "id": "33b515c9-1a55-499c-866b-25df465d3ab1",
   "metadata": {},
   "outputs": [],
   "source": [
    "# Caminho para o arquivo GeoJSON com um lote\n",
    "geojson_input = \"./data/lote_teste.geojson\"\n",
    "\n",
    "# Pasta onde o modelo será exportado\n",
    "output_folder = \"./output_cognicity\"\n"
   ]
  },
  {
   "cell_type": "code",
   "execution_count": 9,
   "id": "e6ee3384-f1ec-4993-97f7-69f61dcca598",
   "metadata": {},
   "outputs": [
    {
     "ename": "TypeError",
     "evalue": "run_modeling_pipeline() got an unexpected keyword argument 'geojson_path'",
     "output_type": "error",
     "traceback": [
      "\u001b[1;31m---------------------------------------------------------------------------\u001b[0m",
      "\u001b[1;31mTypeError\u001b[0m                                 Traceback (most recent call last)",
      "Cell \u001b[1;32mIn[9], line 1\u001b[0m\n\u001b[1;32m----> 1\u001b[0m model \u001b[38;5;241m=\u001b[39m run_modeling_pipeline(\n\u001b[0;32m      2\u001b[0m     geojson_path\u001b[38;5;241m=\u001b[39mgeojson_input,\n\u001b[0;32m      3\u001b[0m     output_path\u001b[38;5;241m=\u001b[39moutput_folder,\n\u001b[0;32m      4\u001b[0m     model_prefix\u001b[38;5;241m=\u001b[39m\u001b[38;5;124m\"\u001b[39m\u001b[38;5;124mskyvidya\u001b[39m\u001b[38;5;124m\"\u001b[39m\n\u001b[0;32m      5\u001b[0m )\n",
      "\u001b[1;31mTypeError\u001b[0m: run_modeling_pipeline() got an unexpected keyword argument 'geojson_path'"
     ]
    }
   ],
   "source": [
    "model = run_modeling_pipeline(\n",
    "    geojson_path=geojson_input,\n",
    "    output_path=output_folder,\n",
    "    model_prefix=\"\"\n",
    ")\n"
   ]
  },
  {
   "cell_type": "code",
   "execution_count": null,
   "id": "cc4db659-b1a8-414f-b3fd-94a8ccd7d378",
   "metadata": {},
   "outputs": [],
   "source": [
    "print(f\"Footprint area: {model.get_buildable_area():.2f} m²\")\n",
    "print(f\"Total floors: {model.total_floors}\")\n",
    "print(f\"Total height: {model.total_height:.2f} m\")\n",
    "print(f\"Total built area: {model.total_built_area:.2f} m²\")\n",
    "print(f\"Morphology: {model.morphology_type}\")\n",
    "print(f\"Slabs: {model.used_slabs}, Corners: {model.used_corners}\")\n"
   ]
  },
  {
   "cell_type": "code",
   "execution_count": null,
   "id": "52437abc-9227-41cd-9369-2c9f68cf836b",
   "metadata": {},
   "outputs": [],
   "source": [
    "import geopandas as gpd\n",
    "\n",
    "gdf = gpd.read_file(f\"{output_folder}/skyvidya_lote.geojson\")\n",
    "gdf.plot(edgecolor='black', figsize=(8, 8))\n"
   ]
  },
  {
   "cell_type": "code",
   "execution_count": null,
   "id": "5981214d-8f3d-4995-8a1b-30a2ccba5e04",
   "metadata": {},
   "outputs": [],
   "source": []
  }
 ],
 "metadata": {
  "kernelspec": {
   "display_name": "Python 3 (ipykernel)",
   "language": "python",
   "name": "python3"
  },
  "language_info": {
   "codemirror_mode": {
    "name": "ipython",
    "version": 3
   },
   "file_extension": ".py",
   "mimetype": "text/x-python",
   "name": "python",
   "nbconvert_exporter": "python",
   "pygments_lexer": "ipython3",
   "version": "3.12.4"
  }
 },
 "nbformat": 4,
 "nbformat_minor": 5
}
