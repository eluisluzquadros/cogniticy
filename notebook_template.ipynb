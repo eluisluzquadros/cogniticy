{
 "cells": [
  {
   "cell_type": "markdown",
   "metadata": {},
   "source": [
    "# CogniCity: Teste com Lote Retangular (25x50m) e Parâmetros Reais\n",
    "\n",
    "Este notebook demonstra a execução da pipeline `CogniCity` para um lote retangular \"fake\" com dimensões de 25m (frente) por 50m (profundidade). Utilizaremos parâmetros urbanísticos realistas para simular um cenário comum.\n",
    "\n",
    "**Passos:**\n",
    "1. Configuração do ambiente e imports.\n",
    "2. Definição da geometria do lote e suas faces.\n",
    "3. Atribuição de parâmetros urbanísticos realistas.\n",
    "4. Criação de arquivos GeoJSON temporários para o lote e faces.\n",
    "5. Criação de um arquivo de configuração YAML específico para este teste.\n",
    "6. Execução da pipeline `CogniCity`.\n",
    "7. Carregamento e visualização dos resultados gerados.\n",
    "8. Limpeza dos arquivos temporários."
   ]
  },
  {
   "cell_type": "markdown",
   "metadata": {},
   "source": [
    "## 1. Configuração do Ambiente e Imports"
   ]
  },
  {
   "cell_type": "code",
   "execution_count": null,
   "metadata": {},
   "outputs": [],
   "source": [
    "# Descomente e execute se as bibliotecas não estiverem instaladas\n",
    "# !pip install geopandas shapely matplotlib pyyaml pandas"
   ]
  },
  {
   "cell_type": "code",
   "execution_count": null,
   "metadata": {},
   "outputs": [],
   "source": [
    "import os\n",
    "import sys\n",
    "import json\n",
    "import pandas as pd\n",
    "import geopandas as gpd\n",
    "from shapely.geometry import Polygon, LineString\n",
    "import matplotlib.pyplot as plt\n",
    "import yaml\n",
    "import logging\n",
    "\n",
    "# Adicionar o diretório raiz do projeto ao PYTHONPATH\n",
    "# Ajuste o caminho se o seu notebook estiver em uma subpasta diferente de 'notebooks' ou da raiz\n",
    "project_root = os.path.abspath(os.path.join(os.getcwd(), '..')) # Assume que o notebook está em 'notebooks/'\n",
    "if 'cogniticy' not in project_root: # Se estiver rodando da raiz do projeto\n",
    "    project_root = os.getcwd()\n",
    "if project_root not in sys.path:\n",
    "    sys.path.insert(0, project_root)\n",
    "\n",
    "print(f\"Raiz do projeto adicionada ao PYTHONPATH: {project_root}\")\n",
    "\n",
    "# Importar módulos do CogniCity\n",
    "try:\n",
    "    from cogniticy.pipelines.modeling_pipeline import run_modeling_pipeline\n",
    "    from cogniticy.core.params import AppParams # Para verificar se o path está ok\n",
    "    print(\"Módulos CogniCity importados com sucesso.\")\n",
    "except ImportError as e:\n",
    "    print(f\"Erro ao importar módulos CogniCity: {e}\")\n",
    "    print(\"Verifique se o PYTHONPATH está configurado corretamente e se a estrutura de pastas do projeto está correta.\")\n",
    "    print(f\"Caminhos no sys.path: {sys.path}\")\n",
    "\n",
    "# Configurar logging para ver o output da pipeline\n",
    "logging.basicConfig(level=logging.INFO, format='%(asctime)s - %(levelname)s - %(module)s - %(message)s')"
   ]
  },
  {
   "cell_type": "markdown",
   "metadata": {},
   "source": [
    "## 2. Definição da Geometria do Lote Fake (25x50m) e Faces"
   ]
  },
  {
   "cell_type": "code",
   "execution_count": null,
   "metadata": {},
   "outputs": [],
   "source": [
    "# Dimensões do lote\n",
    "frente_lote = 25.0  # metros\n",
    "profundidade_lote = 50.0 # metros\n",
    "id_lote_fake = \"LOTEFAKE001\"\n",
    "\n",
    "# Coordenadas do lote (assumindo origem em 0,0 para simplicidade)\n",
    "# (0,50) --- (25,50)  (FRENTE)\n",
    "#   |           |\n",
    "#   |           |\n",
    "# (0,0)  --- (25,0)   (FUNDOS)\n",
    "lot_polygon_geom = Polygon([\n",
    "    (0, 0), (frente_lote, 0), (frente_lote, profundidade_lote), (0, profundidade_lote), (0, 0)\n",
    "])\n",
    "\n",
    "# Definir faces\n",
    "# A convenção de \"frente\" pode variar. Aqui, vamos assumir que a frente está ao longo do eixo Y maior.\n",
    "face_frente_geom = LineString([(0, profundidade_lote), (frente_lote, profundidade_lote)])\n",
    "face_fundos_geom = LineString([(frente_lote, 0), (0, 0)]) # Orientação oposta à frente para consistência\n",
    "face_lateral_esq_geom = LineString([(0, 0), (0, profundidade_lote)])\n",
    "face_lateral_dir_geom = LineString([(frente_lote, profundidade_lote), (frente_lote, 0)]) # Orientação oposta à esq.\n",
    "\n",
    "print(f\"Geometria do Lote: {lot_polygon_geom.wkt}\")\n",
    "print(f\"Área do Lote: {lot_polygon_geom.area} m² (Esperado: {frente_lote * profundidade_lote})\")\n",
    "print(f\"Face Frontal: {face_frente_geom.wkt}\")"
   ]
  },
  {
   "cell_type": "markdown",
   "metadata": {},
   "source": [
    "## 3. Atribuição de Parâmetros Urbanísticos \"Reais\""
   ]
  },
  {
   "cell_type": "code",
   "execution_count": null,
   "metadata": {},
   "outputs": [],
   "source": [
    "# Parâmetros urbanísticos realistas (exemplo para uma zona mista)\n",
    "params_lote_fake = {\n",
    "    \"numlote\": id_lote_fake,\n",
    "    \"zot\": \"ZONA_MISTA_3\",\n",
    "    \"codigo\": \"ZM3\",\n",
    "    \"id_quarteirao\": \"QFAKE01\",\n",
    "    # Normativos\n",
    "    \"max_height\": 45.0,  # Altura máxima de 45m\n",
    "    \"max_far\": 2.5,      # Coeficiente de Aproveitamento\n",
    "    \"max_lot_coverage\": 0.70, # Taxa de Ocupação de 70%\n",
    "    \"gf_floor_height\": 4.0, # Pé-direito térreo\n",
    "    \"uf_floor_height\": 3.0, # Pé-direito pavimentos tipo\n",
    "    \"min_front_setback\": 5.0, # Recuo frontal\n",
    "    \"min_back_setback\": 3.0,  # Recuo de fundos\n",
    "    \"min_side_setback\": 1.5,  # Recuo lateral (pode ser 0 se geminado, mas vamos usar 1.5)\n",
    "    \"min_setback_start_floor\": 4, # Escalonamento a partir do 4º pavimento\n",
    "    \"back_setback_percent\": 0.20, # 20% de recuo de fundos por altura acumulada\n",
    "    # Arquitetônicos\n",
    "    \"min_floor_area\": 40.0,\n",
    "    \"min_unit_area\": 35.0,\n",
    "    \"target_unit_area\": 70.0,\n",
    "    \"core_area_fraction\": 0.15,\n",
    "    \"target_efficiency\": 0.80,\n",
    "    # Estacionamento\n",
    "    \"parking_required\": True\n",
    "    # Outros parâmetros podem ser adicionados conforme o PARAMETER_COLUMN_MAPPING\n",
    "}\n",
    "\n",
    "print(f\"Parâmetros para o lote {id_lote_fake}: {params_lote_fake}\")"
   ]
  },
  {
   "cell_type": "markdown",
   "metadata": {},
   "source": [
    "## 4. Criação de Arquivos GeoJSON Temporários"
   ]
  },
  {
   "cell_type": "code",
   "execution_count": null,
   "metadata": {},
   "outputs": [],
   "source": [
    "temp_data_dir = \"./temp_notebook_data\"\n",
    "os.makedirs(temp_data_dir, exist_ok=True)\n",
    "\n",
    "# CRS para os dados (UTM Zona 22S - Sul do Brasil, exemplo)\n",
    "crs_metric = \"EPSG:31982\"\n",
    "\n",
    "# Criar GeoDataFrame para o lote\n",
    "lote_gdf_data = [params_lote_fake]\n",
    "lote_gdf = gpd.GeoDataFrame(lote_gdf_data, geometry=[lot_polygon_geom], crs=crs_metric)\n",
    "temp_lot_file = os.path.join(temp_data_dir, \"lote_fake.geojson\")\n",
    "lote_gdf.to_file(temp_lot_file, driver=\"GeoJSON\")\n",
    "print(f\"Arquivo de lote fake salvo em: {temp_lot_file}\")\n",
    "\n",
    "# Criar GeoDataFrame para as faces\n",
    "faces_data = [\n",
    "    {\"numlote\": id_lote_fake, \"tipo\": \"frente\", \"geometry\": face_frente_geom},\n",
    "    {\"numlote\": id_lote_fake, \"tipo\": \"fundos\", \"geometry\": face_fundos_geom},\n",
    "    {\"numlote\": id_lote_fake, \"tipo\": \"lateral\", \"geometry\": face_lateral_esq_geom},\n",
    "    {\"numlote\": id_lote_fake, \"tipo\": \"lateral\", \"geometry\": face_lateral_dir_geom},\n",
    "]\n",
    "faces_geometries = [d.pop('geometry') for d in faces_data]\n",
    "faces_gdf = gpd.GeoDataFrame(faces_data, geometry=faces_geometries, crs=crs_metric)\n",
    "temp_faces_file = os.path.join(temp_data_dir, \"faces_fake.geojson\")\n",
    "faces_gdf.to_file(temp_faces_file, driver=\"GeoJSON\")\n",
    "print(f\"Arquivo de faces fake salvo em: {temp_faces_file}\")"
   ]
  },
  {
   "cell_type": "markdown",
   "metadata": {},
   "source": [
    "## 5. Criação de Arquivo de Configuração YAML para o Notebook"
   ]
  },
  {
   "cell_type": "code",
   "execution_count": null,
   "metadata": {},
   "outputs": [],
   "source": [
    "temp_output_dir = \"./temp_notebook_output\"\n",
    "os.makedirs(temp_output_dir, exist_ok=True)\n",
    "\n",
    "notebook_config_content = {\n",
    "    \"zoning_parameters\": {}, # Deixar vazio para pegar do lote, ou definir defaults globais\n",
    "    \"normative_parameters\": { # Defaults globais, serão sobrescritos pelos do lote se existirem\n",
    "        \"max_height\": 70.0,\n",
    "        \"max_far\": 3.0,\n",
    "        \"max_lot_coverage\": 0.75,\n",
    "        \"gf_floor_height\": 4.5,\n",
    "        \"uf_floor_height\": 3.2,\n",
    "        \"min_front_setback\": 3.0,\n",
    "        \"min_back_setback\": 2.0,\n",
    "        \"min_side_setback\": 0.0, # Exemplo de geminação\n",
    "        \"min_setback_start_floor\": 3,\n",
    "        \"back_setback_percent\": 0.15\n",
    "    },\n",
    "    \"architectural_parameters\": {\n",
    "        \"min_floor_area\": 30.0,\n",
    "        \"target_efficiency\": 0.75\n",
    "    },\n",
    "    \"parking_parameters\": { \"parking_required\": False },\n",
    "    \"modeling_strategy\": {\n",
    "        \"h3_resolution\": 10,\n",
    "        \"modeling_mode\": \"advanced\", # Para testar o GridSearchOptimizer\n",
    "        \"optimization_objective\": \"maximize_far_within_height\",\n",
    "        \"grid_search_parameters\": {\n",
    "            \"shape_ratio_steps\": [0.4, 0.6] # Menos passos para um teste rápido\n",
    "        }\n",
    "    },\n",
    "    \"simulation_parameters\": {\n",
    "        \"project_name\": \"notebook_fake_lot_test\",\n",
    "        \"input_lots_geojson\": temp_lot_file,\n",
    "        \"input_block_faces_geojson\": temp_faces_file,\n",
    "        \"faces_lot_id_column\": \"numlote\",\n",
    "        \"faces_type_column\": \"tipo\",\n",
    "        \"output_directory\": temp_output_dir,\n",
    "        \"output_crs\": \"EPSG:4326\", # Saída em WGS84\n",
    "        \"default_processing_crs\": crs_metric, # CRS usado para criar os dados fake\n",
    "        \"lot_id_column_name\": \"numlote\",\n",
    "        \"log_level\": \"INFO\"\n",
    "    }\n",
    "}\n",
    "\n",
    "temp_config_dir = \"./temp_notebook_config\"\n",
    "os.makedirs(temp_config_dir, exist_ok=True)\n",
    "notebook_config_file = os.path.join(temp_config_dir, \"notebook_test_config.yaml\")\n",
    "\n",
    "with open(notebook_config_file, 'w') as f:\n",
    "    yaml.dump(notebook_config_content, f, default_flow_style=False, sort_keys=False)\n",
    "\n",
    "print(f\"Arquivo de configuração do notebook salvo em: {notebook_config_file}\")"
   ]
  },
  {
   "cell_type": "markdown",
   "metadata": {},
   "source": [
    "## 6. Execução da Pipeline CogniCity"
   ]
  },
  {
   "cell_type": "code",
   "execution_count": null,
   "metadata": {},
   "outputs": [],
   "source": [
    "if 'run_modeling_pipeline' in globals():\n",
    "    print(f\"\\nExecutando a pipeline com config: {notebook_config_file}...\")\n",
    "    run_modeling_pipeline(config_path=notebook_config_file)\n",
    "    print(\"\\nExecução da pipeline concluída.\")\n",
    "else:\n",
    "    print(\"Função 'run_modeling_pipeline' não foi importada. Verifique os imports e o PYTHONPATH.\")"
   ]
  },
  {
   "cell_type": "markdown",
   "metadata": {},
   "source": [
    "## 7. Carregamento e Visualização dos Resultados"
   ]
  },
  {
   "cell_type": "code",
   "execution_count": null,
   "metadata": {},
   "outputs": [],
   "source": [
    "def plot_geojson_floors(file_path, title):\n",
    "    if not os.path.exists(file_path):\n",
    "        print(f\"Arquivo não encontrado: {file_path}\")\n",
    "        return None\n",
    "    try:\n",
    "        gdf = gpd.read_file(file_path)\n",
    "        fig, ax = plt.subplots(1, 1, figsize=(10, 10))\n",
    "        gdf.plot(ax=ax, alpha=0.7, cmap='viridis', legend=True, edgecolor='black')\n",
    "        ax.set_title(title)\n",
    "        ax.set_xlabel(\"Leste (m)\")\n",
    "        ax.set_ylabel(\"Norte (m)\")\n",
    "        ax.axis('equal')\n",
    "        plt.show()\n",
    "        return gdf\n",
    "    except Exception as e:\n",
    "        print(f\"Erro ao plotar {file_path}: {e}\")\n",
    "        return None\n",
    "\n",
    "# Visualizar pavimentos da baseline\n",
    "baseline_floors_file = os.path.join(temp_output_dir, f\"{notebook_config_content['simulation_parameters']['project_name']}_{id_lote_fake}_baseline_floors.geojson\")\n",
    "print(f\"\\nVisualizando: {baseline_floors_file}\")\n",
    "baseline_floors_gdf = plot_geojson_floors(baseline_floors_file, f\"Pavimentos Baseline - Lote {id_lote_fake}\")\n",
    "if baseline_floors_gdf is not None:\n",
    "    print(\"Dados dos pavimentos baseline:\")\n",
    "    print(baseline_floors_gdf[['floor_number', 'floor_name', 'base_height', 'floor_area', 'has_setback']].head())\n",
    "\n",
    "# Visualizar pavimentos da melhor forma\n",
    "best_shape_floors_file = os.path.join(temp_output_dir, f\"{notebook_config_content['simulation_parameters']['project_name']}_{id_lote_fake}_best_shape_floors.geojson\")\n",
    "print(f\"\\nVisualizando: {best_shape_floors_file}\")\n",
    "best_shape_floors_gdf = plot_geojson_floors(best_shape_floors_file, f\"Pavimentos Best Shape - Lote {id_lote_fake}\")\n",
    "if best_shape_floors_gdf is not None:\n",
    "    print(\"Dados dos pavimentos da melhor forma:\")\n",
    "    print(best_shape_floors_gdf[['floor_number', 'floor_name', 'base_height', 'floor_area', 'has_setback', 'shape_name']].head())\n"
   ]
  },
  {
   "cell_type": "markdown",
   "metadata": {},
   "source": [
    "## 8. Exibir Resumo CSV"
   ]
  },
  {
   "cell_type": "code",
   "execution_count": null,
   "metadata": {},
   "outputs": [],
   "source": [
    "summary_csv_file = os.path.join(temp_output_dir, f\"{notebook_config_content['simulation_parameters']['project_name']}_summary_results.csv\")\n",
    "if os.path.exists(summary_csv_file):\n",
    "    summary_df = pd.read_csv(summary_csv_file)\n",
    "    print(f\"\\nResumo da Simulação (do arquivo {summary_csv_file}):\")\n",
    "    # Exibir todas as colunas\n",
    "    pd.set_option('display.max_columns', None)\n",
    "    print(summary_df)\n",
    "else:\n",
    "    print(f\"Arquivo de resumo CSV não encontrado: {summary_csv_file}\")"
   ]
  },
  {
   "cell_type": "markdown",
   "metadata": {},
   "source": [
    "## 9. Limpeza (Opcional)\n",
    "\n",
    "Descomente as linhas abaixo para remover os arquivos e diretórios temporários criados por este notebook."
   ]
  },
  {
   "cell_type": "code",
   "execution_count": null,
   "metadata": {},
   "outputs": [],
   "source": [
    "# import shutil\n",
    "\n",
    "# print(\"\\nLimpando arquivos temporários...\")\n",
    "# try:\n",
    "#     if os.path.exists(temp_data_dir):\n",
    "#         shutil.rmtree(temp_data_dir)\n",
    "#         print(f\"Diretório removido: {temp_data_dir}\")\n",
    "#     if os.path.exists(temp_config_dir):\n",
    "#         shutil.rmtree(temp_config_dir)\n",
    "#         print(f\"Diretório removido: {temp_config_dir}\")\n",
    "#     if os.path.exists(temp_output_dir):\n",
    "#          shutil.rmtree(temp_output_dir)\n",
    "#          print(f\"Diretório removido: {temp_output_dir}\")\n",
    "# except Exception as e:\n",
    "#     print(f\"Erro ao limpar arquivos temporários: {e}\")"
   ]
  }
 ],
 "metadata": {
  "kernelspec": {
   "display_name": "Python 3 (ipykernel)",
   "language": "python",
   "name": "python3"
  },
  "language_info": {
   "codemirror_mode": {
    "name": "ipython",
    "version": 3
   },
   "file_extension": ".py",
   "mimetype": "text/x-python",
   "name": "python",
   "nbconvert_exporter": "python",
   "pygments_lexer": "ipython3",
   "version": "3.11.7"
  }
 },
 "nbformat": 4,
 "nbformat_minor": 5
}
